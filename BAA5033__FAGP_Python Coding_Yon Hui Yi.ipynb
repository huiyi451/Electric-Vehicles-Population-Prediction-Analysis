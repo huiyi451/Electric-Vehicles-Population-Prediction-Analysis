{
 "cells": [
  {
   "cell_type": "markdown",
   "metadata": {
    "id": "76QlzSqIelj-",
    "jp-MarkdownHeadingCollapsed": true,
    "tags": []
   },
   "source": [
    "# Python Group Assignment\n",
    "### Topic: Electric Vehicle Population Prediction Analysis\n"
   ]
  },
  {
   "cell_type": "markdown",
   "metadata": {
    "id": "VmRf1TfhgCe1"
   },
   "source": [
    "# Task 1. Data Preprocessing"
   ]
  },
  {
   "cell_type": "markdown",
   "metadata": {
    "id": "9C_LZZEbgfzX"
   },
   "source": [
    "## 1.2 Data Acquisition"
   ]
  },
  {
   "cell_type": "code",
   "execution_count": 156,
   "metadata": {
    "id": "T84EiczjYT_K",
    "tags": []
   },
   "outputs": [],
   "source": [
    "# Import library required\n",
    "import pandas as pd\n",
    "import numpy as np"
   ]
  },
  {
   "cell_type": "code",
   "execution_count": 157,
   "metadata": {
    "id": "Z6MX6876Y41b",
    "tags": []
   },
   "outputs": [],
   "source": [
    "# Load the CSV dataset into Python environment\n",
    "df = pd.read_csv('ev.csv')"
   ]
  },
  {
   "cell_type": "code",
   "execution_count": 158,
   "metadata": {
    "colab": {
     "base_uri": "https://localhost:8080/"
    },
    "id": "uZUOzlAOuYrO",
    "outputId": "7c4790ef-5751-4e1b-e577-4911b583d39a",
    "tags": []
   },
   "outputs": [
    {
     "name": "stdout",
     "output_type": "stream",
     "text": [
      "<class 'pandas.core.frame.DataFrame'>\n",
      "RangeIndex: 150509 entries, 0 to 150508\n",
      "Data columns (total 17 columns):\n",
      " #   Column                                             Non-Null Count   Dtype  \n",
      "---  ------                                             --------------   -----  \n",
      " 0   VIN (1-10)                                         150509 non-null  object \n",
      " 1   County                                             150506 non-null  object \n",
      " 2   City                                               150506 non-null  object \n",
      " 3   State                                              150509 non-null  object \n",
      " 4   Postal Code                                        150506 non-null  float64\n",
      " 5   Model Year                                         150509 non-null  int64  \n",
      " 6   Make                                               150509 non-null  object \n",
      " 7   Model                                              150509 non-null  object \n",
      " 8   Electric Vehicle Type                              150509 non-null  object \n",
      " 9   Clean Alternative Fuel Vehicle (CAFV) Eligibility  150509 non-null  object \n",
      " 10  Electric Range                                     150509 non-null  int64  \n",
      " 11  Base MSRP                                          150509 non-null  int64  \n",
      " 12  Legislative District                               150167 non-null  float64\n",
      " 13  DOL Vehicle ID                                     150509 non-null  int64  \n",
      " 14  Vehicle Location                                   150502 non-null  object \n",
      " 15  Electric Utility                                   150506 non-null  object \n",
      " 16  2020 Census Tract                                  150506 non-null  float64\n",
      "dtypes: float64(3), int64(4), object(10)\n",
      "memory usage: 19.5+ MB\n"
     ]
    }
   ],
   "source": [
    "df.info()"
   ]
  },
  {
   "cell_type": "markdown",
   "metadata": {
    "id": "y2Z2RSn-hmTF"
   },
   "source": [
    "## 1.3 Data Cleaning and Preprocessing"
   ]
  },
  {
   "cell_type": "markdown",
   "metadata": {
    "id": "YfYzJtfVp4So"
   },
   "source": [
    "### A. Missing Values"
   ]
  },
  {
   "cell_type": "code",
   "execution_count": 159,
   "metadata": {
    "colab": {
     "base_uri": "https://localhost:8080/"
    },
    "id": "3Z0mZNsbhxuH",
    "outputId": "bb638384-b4a5-4a10-9556-98c2011a96a0",
    "tags": []
   },
   "outputs": [
    {
     "name": "stdout",
     "output_type": "stream",
     "text": [
      "Missing Values:\n",
      " VIN (1-10)                                             0\n",
      "County                                                 3\n",
      "City                                                   3\n",
      "State                                                  0\n",
      "Postal Code                                            3\n",
      "Model Year                                             0\n",
      "Make                                                   0\n",
      "Model                                                  0\n",
      "Electric Vehicle Type                                  0\n",
      "Clean Alternative Fuel Vehicle (CAFV) Eligibility      0\n",
      "Electric Range                                         0\n",
      "Base MSRP                                              0\n",
      "Legislative District                                 342\n",
      "DOL Vehicle ID                                         0\n",
      "Vehicle Location                                       7\n",
      "Electric Utility                                       3\n",
      "2020 Census Tract                                      3\n",
      "dtype: int64\n"
     ]
    }
   ],
   "source": [
    "# Check for missing values\n",
    "missing_values = df.isnull().sum()\n",
    "print(\"Missing Values:\\n\", missing_values)"
   ]
  },
  {
   "cell_type": "code",
   "execution_count": 160,
   "metadata": {
    "colab": {
     "base_uri": "https://localhost:8080/"
    },
    "id": "HaGvzDeXqAmq",
    "outputId": "7258e18f-ce9c-47ba-9100-715b10fc8a80",
    "tags": []
   },
   "outputs": [
    {
     "name": "stdout",
     "output_type": "stream",
     "text": [
      "<class 'pandas.core.frame.DataFrame'>\n",
      "Index: 150163 entries, 0 to 150508\n",
      "Data columns (total 17 columns):\n",
      " #   Column                                             Non-Null Count   Dtype  \n",
      "---  ------                                             --------------   -----  \n",
      " 0   VIN (1-10)                                         150163 non-null  object \n",
      " 1   County                                             150163 non-null  object \n",
      " 2   City                                               150163 non-null  object \n",
      " 3   State                                              150163 non-null  object \n",
      " 4   Postal Code                                        150163 non-null  float64\n",
      " 5   Model Year                                         150163 non-null  int64  \n",
      " 6   Make                                               150163 non-null  object \n",
      " 7   Model                                              150163 non-null  object \n",
      " 8   Electric Vehicle Type                              150163 non-null  object \n",
      " 9   Clean Alternative Fuel Vehicle (CAFV) Eligibility  150163 non-null  object \n",
      " 10  Electric Range                                     150163 non-null  int64  \n",
      " 11  Base MSRP                                          150163 non-null  int64  \n",
      " 12  Legislative District                               150163 non-null  float64\n",
      " 13  DOL Vehicle ID                                     150163 non-null  int64  \n",
      " 14  Vehicle Location                                   150163 non-null  object \n",
      " 15  Electric Utility                                   150163 non-null  object \n",
      " 16  2020 Census Tract                                  150163 non-null  float64\n",
      "dtypes: float64(3), int64(4), object(10)\n",
      "memory usage: 20.6+ MB\n"
     ]
    }
   ],
   "source": [
    "# Remove rows with any missing valus\n",
    "df.dropna(inplace=True)\n",
    "df.info()"
   ]
  },
  {
   "cell_type": "code",
   "execution_count": 161,
   "metadata": {
    "colab": {
     "base_uri": "https://localhost:8080/"
    },
    "id": "HSXT2Ehpwqvs",
    "outputId": "ab2faa88-7df9-4e7c-b2b3-d33791c20bcc",
    "tags": []
   },
   "outputs": [
    {
     "name": "stdout",
     "output_type": "stream",
     "text": [
      "Missing Values:\n",
      " VIN (1-10)                                           0\n",
      "County                                               0\n",
      "City                                                 0\n",
      "State                                                0\n",
      "Postal Code                                          0\n",
      "Model Year                                           0\n",
      "Make                                                 0\n",
      "Model                                                0\n",
      "Electric Vehicle Type                                0\n",
      "Clean Alternative Fuel Vehicle (CAFV) Eligibility    0\n",
      "Electric Range                                       0\n",
      "Base MSRP                                            0\n",
      "Legislative District                                 0\n",
      "DOL Vehicle ID                                       0\n",
      "Vehicle Location                                     0\n",
      "Electric Utility                                     0\n",
      "2020 Census Tract                                    0\n",
      "dtype: int64\n"
     ]
    }
   ],
   "source": [
    "# Recheck for missing values\n",
    "missing_values = df.isnull().sum()\n",
    "print(\"Missing Values:\\n\", missing_values)"
   ]
  },
  {
   "cell_type": "markdown",
   "metadata": {
    "id": "_qUxFXrDqUKR"
   },
   "source": [
    "### B. Duplicates"
   ]
  },
  {
   "cell_type": "code",
   "execution_count": 162,
   "metadata": {
    "colab": {
     "base_uri": "https://localhost:8080/"
    },
    "id": "tbsdYjp6ZT8Y",
    "outputId": "4d5686c2-ed8f-4fc8-fe1e-8496f19fb2df",
    "tags": []
   },
   "outputs": [
    {
     "name": "stdout",
     "output_type": "stream",
     "text": [
      "Number of duplicate rows: 26\n"
     ]
    }
   ],
   "source": [
    "# Check for duplicates\n",
    "duplicate_rows = df[df.duplicated()]\n",
    "num_duplicates = len(duplicate_rows)\n",
    "print(f\"Number of duplicate rows: {num_duplicates}\")"
   ]
  },
  {
   "cell_type": "code",
   "execution_count": 163,
   "metadata": {
    "colab": {
     "base_uri": "https://localhost:8080/"
    },
    "id": "kEGHUGcfsZVE",
    "outputId": "8bc9e61e-2ad8-4840-ae8f-e4eaccdfbc04",
    "tags": []
   },
   "outputs": [
    {
     "name": "stdout",
     "output_type": "stream",
     "text": [
      "<class 'pandas.core.frame.DataFrame'>\n",
      "Index: 150137 entries, 0 to 150481\n",
      "Data columns (total 17 columns):\n",
      " #   Column                                             Non-Null Count   Dtype  \n",
      "---  ------                                             --------------   -----  \n",
      " 0   VIN (1-10)                                         150137 non-null  object \n",
      " 1   County                                             150137 non-null  object \n",
      " 2   City                                               150137 non-null  object \n",
      " 3   State                                              150137 non-null  object \n",
      " 4   Postal Code                                        150137 non-null  float64\n",
      " 5   Model Year                                         150137 non-null  int64  \n",
      " 6   Make                                               150137 non-null  object \n",
      " 7   Model                                              150137 non-null  object \n",
      " 8   Electric Vehicle Type                              150137 non-null  object \n",
      " 9   Clean Alternative Fuel Vehicle (CAFV) Eligibility  150137 non-null  object \n",
      " 10  Electric Range                                     150137 non-null  int64  \n",
      " 11  Base MSRP                                          150137 non-null  int64  \n",
      " 12  Legislative District                               150137 non-null  float64\n",
      " 13  DOL Vehicle ID                                     150137 non-null  int64  \n",
      " 14  Vehicle Location                                   150137 non-null  object \n",
      " 15  Electric Utility                                   150137 non-null  object \n",
      " 16  2020 Census Tract                                  150137 non-null  float64\n",
      "dtypes: float64(3), int64(4), object(10)\n",
      "memory usage: 20.6+ MB\n"
     ]
    }
   ],
   "source": [
    "# Remove duplicates rows\n",
    "df.drop_duplicates(inplace=True)\n",
    "df.info()"
   ]
  },
  {
   "cell_type": "code",
   "execution_count": 164,
   "metadata": {
    "colab": {
     "base_uri": "https://localhost:8080/"
    },
    "id": "TkyBFbL3wuEo",
    "outputId": "3bce8928-4ae4-47c7-9358-7f43a39d28ec",
    "tags": []
   },
   "outputs": [
    {
     "name": "stdout",
     "output_type": "stream",
     "text": [
      "Number of duplicate rows: 0\n"
     ]
    }
   ],
   "source": [
    "# Recheck for duplicates\n",
    "duplicate_rows = df[df.duplicated()]\n",
    "num_duplicates = len(duplicate_rows)\n",
    "print(f\"Number of duplicate rows: {num_duplicates}\")"
   ]
  },
  {
   "cell_type": "markdown",
   "metadata": {
    "id": "mLvHKGIYqeT9"
   },
   "source": [
    "### C. Data Inconsistencies"
   ]
  },
  {
   "cell_type": "code",
   "execution_count": 165,
   "metadata": {
    "colab": {
     "base_uri": "https://localhost:8080/",
     "height": 694
    },
    "id": "Vh4McnE-mGVi",
    "outputId": "7c8f935d-d168-4391-8d7a-830c2ce4a54c",
    "tags": []
   },
   "outputs": [
    {
     "data": {
      "text/html": [
       "<div>\n",
       "<style scoped>\n",
       "    .dataframe tbody tr th:only-of-type {\n",
       "        vertical-align: middle;\n",
       "    }\n",
       "\n",
       "    .dataframe tbody tr th {\n",
       "        vertical-align: top;\n",
       "    }\n",
       "\n",
       "    .dataframe thead th {\n",
       "        text-align: right;\n",
       "    }\n",
       "</style>\n",
       "<table border=\"1\" class=\"dataframe\">\n",
       "  <thead>\n",
       "    <tr style=\"text-align: right;\">\n",
       "      <th></th>\n",
       "      <th>VIN (1-10)</th>\n",
       "      <th>County</th>\n",
       "      <th>City</th>\n",
       "      <th>State</th>\n",
       "      <th>Postal Code</th>\n",
       "      <th>Model Year</th>\n",
       "      <th>Make</th>\n",
       "      <th>Model</th>\n",
       "      <th>Electric Vehicle Type</th>\n",
       "      <th>Clean Alternative Fuel Vehicle (CAFV) Eligibility</th>\n",
       "      <th>Electric Range</th>\n",
       "      <th>Base MSRP</th>\n",
       "      <th>Legislative District</th>\n",
       "      <th>DOL Vehicle ID</th>\n",
       "      <th>Vehicle Location</th>\n",
       "      <th>Electric Utility</th>\n",
       "      <th>2020 Census Tract</th>\n",
       "    </tr>\n",
       "  </thead>\n",
       "  <tbody>\n",
       "    <tr>\n",
       "      <th>0</th>\n",
       "      <td>KM8K33AGXL</td>\n",
       "      <td>King</td>\n",
       "      <td>Seattle</td>\n",
       "      <td>WA</td>\n",
       "      <td>981030.0</td>\n",
       "      <td>20200</td>\n",
       "      <td>HYUNDAI</td>\n",
       "      <td>KONA</td>\n",
       "      <td>Battery Electric Vehicle (BEV)</td>\n",
       "      <td>Clean Alternative Fuel Vehicle Eligible</td>\n",
       "      <td>258</td>\n",
       "      <td>0</td>\n",
       "      <td>43.0</td>\n",
       "      <td>249675142</td>\n",
       "      <td>POINT (-122.34301 47.659185)</td>\n",
       "      <td>CITY OF SEATTLE - (WA)|CITY OF TACOMA - (WA)</td>\n",
       "      <td>5.303300e+10</td>\n",
       "    </tr>\n",
       "    <tr>\n",
       "      <th>1</th>\n",
       "      <td>1C4RJYB61N</td>\n",
       "      <td>King</td>\n",
       "      <td>Bothell</td>\n",
       "      <td>WA</td>\n",
       "      <td>980110.0</td>\n",
       "      <td>0</td>\n",
       "      <td>JEEP</td>\n",
       "      <td>GRAND CHEROKEE</td>\n",
       "      <td>Plug-in Hybrid Electric Vehicle (PHEV)</td>\n",
       "      <td>Not eligible due to low battery range</td>\n",
       "      <td>25</td>\n",
       "      <td>0</td>\n",
       "      <td>1.0</td>\n",
       "      <td>233928502</td>\n",
       "      <td>POINT (-122.20578 47.762405)</td>\n",
       "      <td>PUGET SOUND ENERGY INC||CITY OF TACOMA - (WA)</td>\n",
       "      <td>5.303302e+10</td>\n",
       "    </tr>\n",
       "    <tr>\n",
       "      <th>2</th>\n",
       "      <td>1C4RJYD61P</td>\n",
       "      <td>Yakima</td>\n",
       "      <td>Yakima</td>\n",
       "      <td>WA</td>\n",
       "      <td>989080.0</td>\n",
       "      <td>20230</td>\n",
       "      <td>JEEP</td>\n",
       "      <td>GRAND CHEROKEE</td>\n",
       "      <td>Plug-in Hybrid Electric Vehicle (PHEV)</td>\n",
       "      <td>Not eligible due to low battery range</td>\n",
       "      <td>25</td>\n",
       "      <td>0</td>\n",
       "      <td>14.0</td>\n",
       "      <td>229675939</td>\n",
       "      <td>POINT (-120.6027202 46.5965625)</td>\n",
       "      <td>PACIFICORP</td>\n",
       "      <td>5.307700e+10</td>\n",
       "    </tr>\n",
       "    <tr>\n",
       "      <th>3</th>\n",
       "      <td>5YJ3E1EA7J</td>\n",
       "      <td>King</td>\n",
       "      <td>Kirkland</td>\n",
       "      <td>WA</td>\n",
       "      <td>98034.0</td>\n",
       "      <td>20</td>\n",
       "      <td>TESLA</td>\n",
       "      <td>MODEL 3</td>\n",
       "      <td>Battery Electric Vehicle (BEV)</td>\n",
       "      <td>Clean Alternative Fuel Vehicle Eligible</td>\n",
       "      <td>215</td>\n",
       "      <td>0</td>\n",
       "      <td>45.0</td>\n",
       "      <td>104714466</td>\n",
       "      <td>POINT (-122.209285 47.71124)</td>\n",
       "      <td>PUGET SOUND ENERGY INC||CITY OF TACOMA - (WA)</td>\n",
       "      <td>5.303302e+10</td>\n",
       "    </tr>\n",
       "    <tr>\n",
       "      <th>4</th>\n",
       "      <td>WBY7Z8C5XJ</td>\n",
       "      <td>Thurston</td>\n",
       "      <td>Olympia</td>\n",
       "      <td>WA</td>\n",
       "      <td>98501.0</td>\n",
       "      <td>2018</td>\n",
       "      <td>BMW</td>\n",
       "      <td>I3</td>\n",
       "      <td>Plug-in Hybrid Electric Vehicle (PHEV)</td>\n",
       "      <td>Clean Alternative Fuel Vehicle Eligible</td>\n",
       "      <td>97</td>\n",
       "      <td>0</td>\n",
       "      <td>22.0</td>\n",
       "      <td>185498386</td>\n",
       "      <td>POINT (-122.89692 47.043535)</td>\n",
       "      <td>PUGET SOUND ENERGY INC</td>\n",
       "      <td>5.306701e+10</td>\n",
       "    </tr>\n",
       "  </tbody>\n",
       "</table>\n",
       "</div>"
      ],
      "text/plain": [
       "   VIN (1-10)    County      City State  Postal Code  Model Year     Make  \\\n",
       "0  KM8K33AGXL      King   Seattle    WA     981030.0       20200  HYUNDAI   \n",
       "1  1C4RJYB61N      King   Bothell    WA     980110.0           0     JEEP   \n",
       "2  1C4RJYD61P    Yakima    Yakima    WA     989080.0       20230     JEEP   \n",
       "3  5YJ3E1EA7J      King  Kirkland    WA      98034.0          20    TESLA   \n",
       "4  WBY7Z8C5XJ  Thurston   Olympia    WA      98501.0        2018      BMW   \n",
       "\n",
       "            Model                   Electric Vehicle Type  \\\n",
       "0            KONA          Battery Electric Vehicle (BEV)   \n",
       "1  GRAND CHEROKEE  Plug-in Hybrid Electric Vehicle (PHEV)   \n",
       "2  GRAND CHEROKEE  Plug-in Hybrid Electric Vehicle (PHEV)   \n",
       "3         MODEL 3          Battery Electric Vehicle (BEV)   \n",
       "4              I3  Plug-in Hybrid Electric Vehicle (PHEV)   \n",
       "\n",
       "  Clean Alternative Fuel Vehicle (CAFV) Eligibility  Electric Range  \\\n",
       "0           Clean Alternative Fuel Vehicle Eligible             258   \n",
       "1             Not eligible due to low battery range              25   \n",
       "2             Not eligible due to low battery range              25   \n",
       "3           Clean Alternative Fuel Vehicle Eligible             215   \n",
       "4           Clean Alternative Fuel Vehicle Eligible              97   \n",
       "\n",
       "   Base MSRP  Legislative District  DOL Vehicle ID  \\\n",
       "0          0                  43.0       249675142   \n",
       "1          0                   1.0       233928502   \n",
       "2          0                  14.0       229675939   \n",
       "3          0                  45.0       104714466   \n",
       "4          0                  22.0       185498386   \n",
       "\n",
       "                  Vehicle Location  \\\n",
       "0     POINT (-122.34301 47.659185)   \n",
       "1     POINT (-122.20578 47.762405)   \n",
       "2  POINT (-120.6027202 46.5965625)   \n",
       "3     POINT (-122.209285 47.71124)   \n",
       "4     POINT (-122.89692 47.043535)   \n",
       "\n",
       "                                Electric Utility  2020 Census Tract  \n",
       "0   CITY OF SEATTLE - (WA)|CITY OF TACOMA - (WA)       5.303300e+10  \n",
       "1  PUGET SOUND ENERGY INC||CITY OF TACOMA - (WA)       5.303302e+10  \n",
       "2                                     PACIFICORP       5.307700e+10  \n",
       "3  PUGET SOUND ENERGY INC||CITY OF TACOMA - (WA)       5.303302e+10  \n",
       "4                         PUGET SOUND ENERGY INC       5.306701e+10  "
      ]
     },
     "execution_count": 165,
     "metadata": {},
     "output_type": "execute_result"
    }
   ],
   "source": [
    "# Show data head\n",
    "df.head()\n",
    "\n",
    "# Data inconsistencies found in Postal Code and Model Year (Row 0-3)"
   ]
  },
  {
   "cell_type": "code",
   "execution_count": 166,
   "metadata": {
    "colab": {
     "base_uri": "https://localhost:8080/",
     "height": 746
    },
    "id": "ZIsCVIdRnMAj",
    "outputId": "d9fcfcc8-4fd0-47a7-94e5-49a514f76f09",
    "tags": []
   },
   "outputs": [
    {
     "data": {
      "text/html": [
       "<div>\n",
       "<style scoped>\n",
       "    .dataframe tbody tr th:only-of-type {\n",
       "        vertical-align: middle;\n",
       "    }\n",
       "\n",
       "    .dataframe tbody tr th {\n",
       "        vertical-align: top;\n",
       "    }\n",
       "\n",
       "    .dataframe thead th {\n",
       "        text-align: right;\n",
       "    }\n",
       "</style>\n",
       "<table border=\"1\" class=\"dataframe\">\n",
       "  <thead>\n",
       "    <tr style=\"text-align: right;\">\n",
       "      <th></th>\n",
       "      <th>VIN (1-10)</th>\n",
       "      <th>County</th>\n",
       "      <th>City</th>\n",
       "      <th>State</th>\n",
       "      <th>Postal Code</th>\n",
       "      <th>Model Year</th>\n",
       "      <th>Make</th>\n",
       "      <th>Model</th>\n",
       "      <th>Electric Vehicle Type</th>\n",
       "      <th>Clean Alternative Fuel Vehicle (CAFV) Eligibility</th>\n",
       "      <th>Electric Range</th>\n",
       "      <th>Base MSRP</th>\n",
       "      <th>Legislative District</th>\n",
       "      <th>DOL Vehicle ID</th>\n",
       "      <th>Vehicle Location</th>\n",
       "      <th>Electric Utility</th>\n",
       "      <th>2020 Census Tract</th>\n",
       "    </tr>\n",
       "  </thead>\n",
       "  <tbody>\n",
       "    <tr>\n",
       "      <th>3</th>\n",
       "      <td>5YJ3E1EA7J</td>\n",
       "      <td>King</td>\n",
       "      <td>Kirkland</td>\n",
       "      <td>WA</td>\n",
       "      <td>98034.0</td>\n",
       "      <td>20</td>\n",
       "      <td>TESLA</td>\n",
       "      <td>MODEL 3</td>\n",
       "      <td>Battery Electric Vehicle (BEV)</td>\n",
       "      <td>Clean Alternative Fuel Vehicle Eligible</td>\n",
       "      <td>215</td>\n",
       "      <td>0</td>\n",
       "      <td>45.0</td>\n",
       "      <td>104714466</td>\n",
       "      <td>POINT (-122.209285 47.71124)</td>\n",
       "      <td>PUGET SOUND ENERGY INC||CITY OF TACOMA - (WA)</td>\n",
       "      <td>5.303302e+10</td>\n",
       "    </tr>\n",
       "    <tr>\n",
       "      <th>4</th>\n",
       "      <td>WBY7Z8C5XJ</td>\n",
       "      <td>Thurston</td>\n",
       "      <td>Olympia</td>\n",
       "      <td>WA</td>\n",
       "      <td>98501.0</td>\n",
       "      <td>2018</td>\n",
       "      <td>BMW</td>\n",
       "      <td>I3</td>\n",
       "      <td>Plug-in Hybrid Electric Vehicle (PHEV)</td>\n",
       "      <td>Clean Alternative Fuel Vehicle Eligible</td>\n",
       "      <td>97</td>\n",
       "      <td>0</td>\n",
       "      <td>22.0</td>\n",
       "      <td>185498386</td>\n",
       "      <td>POINT (-122.89692 47.043535)</td>\n",
       "      <td>PUGET SOUND ENERGY INC</td>\n",
       "      <td>5.306701e+10</td>\n",
       "    </tr>\n",
       "    <tr>\n",
       "      <th>5</th>\n",
       "      <td>5YJ3E1EAXL</td>\n",
       "      <td>Snohomish</td>\n",
       "      <td>Marysville</td>\n",
       "      <td>WA</td>\n",
       "      <td>98271.0</td>\n",
       "      <td>2020</td>\n",
       "      <td>TESLA</td>\n",
       "      <td>MODEL 3</td>\n",
       "      <td>Battery Electric Vehicle (BEV)</td>\n",
       "      <td>Clean Alternative Fuel Vehicle Eligible</td>\n",
       "      <td>266</td>\n",
       "      <td>0</td>\n",
       "      <td>38.0</td>\n",
       "      <td>124595523</td>\n",
       "      <td>POINT (-122.1713847 48.10433)</td>\n",
       "      <td>PUGET SOUND ENERGY INC</td>\n",
       "      <td>5.306194e+10</td>\n",
       "    </tr>\n",
       "    <tr>\n",
       "      <th>6</th>\n",
       "      <td>2C4RC1N77H</td>\n",
       "      <td>King</td>\n",
       "      <td>Kent</td>\n",
       "      <td>WA</td>\n",
       "      <td>98042.0</td>\n",
       "      <td>2017</td>\n",
       "      <td>CHRYSLER</td>\n",
       "      <td>PACIFICA</td>\n",
       "      <td>Plug-in Hybrid Electric Vehicle (PHEV)</td>\n",
       "      <td>Clean Alternative Fuel Vehicle Eligible</td>\n",
       "      <td>33</td>\n",
       "      <td>0</td>\n",
       "      <td>47.0</td>\n",
       "      <td>1815593</td>\n",
       "      <td>POINT (-122.111625 47.36078)</td>\n",
       "      <td>PUGET SOUND ENERGY INC||CITY OF TACOMA - (WA)</td>\n",
       "      <td>5.303303e+10</td>\n",
       "    </tr>\n",
       "    <tr>\n",
       "      <th>7</th>\n",
       "      <td>5YJYGDEE3L</td>\n",
       "      <td>King</td>\n",
       "      <td>Woodinville</td>\n",
       "      <td>WA</td>\n",
       "      <td>98072.0</td>\n",
       "      <td>2020</td>\n",
       "      <td>TESLA</td>\n",
       "      <td>MODEL Y</td>\n",
       "      <td>Battery Electric Vehicle (BEV)</td>\n",
       "      <td>Clean Alternative Fuel Vehicle Eligible</td>\n",
       "      <td>291</td>\n",
       "      <td>0</td>\n",
       "      <td>45.0</td>\n",
       "      <td>124760555</td>\n",
       "      <td>POINT (-122.151665 47.75855)</td>\n",
       "      <td>PUGET SOUND ENERGY INC||CITY OF TACOMA - (WA)</td>\n",
       "      <td>5.303302e+10</td>\n",
       "    </tr>\n",
       "  </tbody>\n",
       "</table>\n",
       "</div>"
      ],
      "text/plain": [
       "   VIN (1-10)     County         City State  Postal Code  Model Year  \\\n",
       "3  5YJ3E1EA7J       King     Kirkland    WA      98034.0          20   \n",
       "4  WBY7Z8C5XJ   Thurston      Olympia    WA      98501.0        2018   \n",
       "5  5YJ3E1EAXL  Snohomish   Marysville    WA      98271.0        2020   \n",
       "6  2C4RC1N77H       King         Kent    WA      98042.0        2017   \n",
       "7  5YJYGDEE3L       King  Woodinville    WA      98072.0        2020   \n",
       "\n",
       "       Make     Model                   Electric Vehicle Type  \\\n",
       "3     TESLA   MODEL 3          Battery Electric Vehicle (BEV)   \n",
       "4       BMW        I3  Plug-in Hybrid Electric Vehicle (PHEV)   \n",
       "5     TESLA   MODEL 3          Battery Electric Vehicle (BEV)   \n",
       "6  CHRYSLER  PACIFICA  Plug-in Hybrid Electric Vehicle (PHEV)   \n",
       "7     TESLA   MODEL Y          Battery Electric Vehicle (BEV)   \n",
       "\n",
       "  Clean Alternative Fuel Vehicle (CAFV) Eligibility  Electric Range  \\\n",
       "3           Clean Alternative Fuel Vehicle Eligible             215   \n",
       "4           Clean Alternative Fuel Vehicle Eligible              97   \n",
       "5           Clean Alternative Fuel Vehicle Eligible             266   \n",
       "6           Clean Alternative Fuel Vehicle Eligible              33   \n",
       "7           Clean Alternative Fuel Vehicle Eligible             291   \n",
       "\n",
       "   Base MSRP  Legislative District  DOL Vehicle ID  \\\n",
       "3          0                  45.0       104714466   \n",
       "4          0                  22.0       185498386   \n",
       "5          0                  38.0       124595523   \n",
       "6          0                  47.0         1815593   \n",
       "7          0                  45.0       124760555   \n",
       "\n",
       "                Vehicle Location  \\\n",
       "3   POINT (-122.209285 47.71124)   \n",
       "4   POINT (-122.89692 47.043535)   \n",
       "5  POINT (-122.1713847 48.10433)   \n",
       "6   POINT (-122.111625 47.36078)   \n",
       "7   POINT (-122.151665 47.75855)   \n",
       "\n",
       "                                Electric Utility  2020 Census Tract  \n",
       "3  PUGET SOUND ENERGY INC||CITY OF TACOMA - (WA)       5.303302e+10  \n",
       "4                         PUGET SOUND ENERGY INC       5.306701e+10  \n",
       "5                         PUGET SOUND ENERGY INC       5.306194e+10  \n",
       "6  PUGET SOUND ENERGY INC||CITY OF TACOMA - (WA)       5.303303e+10  \n",
       "7  PUGET SOUND ENERGY INC||CITY OF TACOMA - (WA)       5.303302e+10  "
      ]
     },
     "execution_count": 166,
     "metadata": {},
     "output_type": "execute_result"
    }
   ],
   "source": [
    "# Solve data inconsistencies problem (part 1)\n",
    "# Filter out data rows when Postal Code less than 4 digits and over 5 digits\n",
    "df = df[(df['Postal Code'] > 1000) & (df['Postal Code'] < 100000)]\n",
    "\n",
    "df.head()"
   ]
  },
  {
   "cell_type": "code",
   "execution_count": 167,
   "metadata": {
    "colab": {
     "base_uri": "https://localhost:8080/",
     "height": 694
    },
    "id": "yntBhHOnpHEf",
    "outputId": "70c2bef4-187c-4bc6-ca43-3875a3cba996",
    "tags": []
   },
   "outputs": [
    {
     "data": {
      "text/html": [
       "<div>\n",
       "<style scoped>\n",
       "    .dataframe tbody tr th:only-of-type {\n",
       "        vertical-align: middle;\n",
       "    }\n",
       "\n",
       "    .dataframe tbody tr th {\n",
       "        vertical-align: top;\n",
       "    }\n",
       "\n",
       "    .dataframe thead th {\n",
       "        text-align: right;\n",
       "    }\n",
       "</style>\n",
       "<table border=\"1\" class=\"dataframe\">\n",
       "  <thead>\n",
       "    <tr style=\"text-align: right;\">\n",
       "      <th></th>\n",
       "      <th>VIN (1-10)</th>\n",
       "      <th>County</th>\n",
       "      <th>City</th>\n",
       "      <th>State</th>\n",
       "      <th>Postal Code</th>\n",
       "      <th>Model Year</th>\n",
       "      <th>Make</th>\n",
       "      <th>Model</th>\n",
       "      <th>Electric Vehicle Type</th>\n",
       "      <th>Clean Alternative Fuel Vehicle (CAFV) Eligibility</th>\n",
       "      <th>Electric Range</th>\n",
       "      <th>Base MSRP</th>\n",
       "      <th>Legislative District</th>\n",
       "      <th>DOL Vehicle ID</th>\n",
       "      <th>Vehicle Location</th>\n",
       "      <th>Electric Utility</th>\n",
       "      <th>2020 Census Tract</th>\n",
       "    </tr>\n",
       "  </thead>\n",
       "  <tbody>\n",
       "    <tr>\n",
       "      <th>4</th>\n",
       "      <td>WBY7Z8C5XJ</td>\n",
       "      <td>Thurston</td>\n",
       "      <td>Olympia</td>\n",
       "      <td>WA</td>\n",
       "      <td>98501.0</td>\n",
       "      <td>2018</td>\n",
       "      <td>BMW</td>\n",
       "      <td>I3</td>\n",
       "      <td>Plug-in Hybrid Electric Vehicle (PHEV)</td>\n",
       "      <td>Clean Alternative Fuel Vehicle Eligible</td>\n",
       "      <td>97</td>\n",
       "      <td>0</td>\n",
       "      <td>22.0</td>\n",
       "      <td>185498386</td>\n",
       "      <td>POINT (-122.89692 47.043535)</td>\n",
       "      <td>PUGET SOUND ENERGY INC</td>\n",
       "      <td>5.306701e+10</td>\n",
       "    </tr>\n",
       "    <tr>\n",
       "      <th>5</th>\n",
       "      <td>5YJ3E1EAXL</td>\n",
       "      <td>Snohomish</td>\n",
       "      <td>Marysville</td>\n",
       "      <td>WA</td>\n",
       "      <td>98271.0</td>\n",
       "      <td>2020</td>\n",
       "      <td>TESLA</td>\n",
       "      <td>MODEL 3</td>\n",
       "      <td>Battery Electric Vehicle (BEV)</td>\n",
       "      <td>Clean Alternative Fuel Vehicle Eligible</td>\n",
       "      <td>266</td>\n",
       "      <td>0</td>\n",
       "      <td>38.0</td>\n",
       "      <td>124595523</td>\n",
       "      <td>POINT (-122.1713847 48.10433)</td>\n",
       "      <td>PUGET SOUND ENERGY INC</td>\n",
       "      <td>5.306194e+10</td>\n",
       "    </tr>\n",
       "    <tr>\n",
       "      <th>6</th>\n",
       "      <td>2C4RC1N77H</td>\n",
       "      <td>King</td>\n",
       "      <td>Kent</td>\n",
       "      <td>WA</td>\n",
       "      <td>98042.0</td>\n",
       "      <td>2017</td>\n",
       "      <td>CHRYSLER</td>\n",
       "      <td>PACIFICA</td>\n",
       "      <td>Plug-in Hybrid Electric Vehicle (PHEV)</td>\n",
       "      <td>Clean Alternative Fuel Vehicle Eligible</td>\n",
       "      <td>33</td>\n",
       "      <td>0</td>\n",
       "      <td>47.0</td>\n",
       "      <td>1815593</td>\n",
       "      <td>POINT (-122.111625 47.36078)</td>\n",
       "      <td>PUGET SOUND ENERGY INC||CITY OF TACOMA - (WA)</td>\n",
       "      <td>5.303303e+10</td>\n",
       "    </tr>\n",
       "    <tr>\n",
       "      <th>7</th>\n",
       "      <td>5YJYGDEE3L</td>\n",
       "      <td>King</td>\n",
       "      <td>Woodinville</td>\n",
       "      <td>WA</td>\n",
       "      <td>98072.0</td>\n",
       "      <td>2020</td>\n",
       "      <td>TESLA</td>\n",
       "      <td>MODEL Y</td>\n",
       "      <td>Battery Electric Vehicle (BEV)</td>\n",
       "      <td>Clean Alternative Fuel Vehicle Eligible</td>\n",
       "      <td>291</td>\n",
       "      <td>0</td>\n",
       "      <td>45.0</td>\n",
       "      <td>124760555</td>\n",
       "      <td>POINT (-122.151665 47.75855)</td>\n",
       "      <td>PUGET SOUND ENERGY INC||CITY OF TACOMA - (WA)</td>\n",
       "      <td>5.303302e+10</td>\n",
       "    </tr>\n",
       "    <tr>\n",
       "      <th>8</th>\n",
       "      <td>5YJ3E1EA1J</td>\n",
       "      <td>Island</td>\n",
       "      <td>Coupeville</td>\n",
       "      <td>WA</td>\n",
       "      <td>98239.0</td>\n",
       "      <td>2018</td>\n",
       "      <td>TESLA</td>\n",
       "      <td>MODEL 3</td>\n",
       "      <td>Battery Electric Vehicle (BEV)</td>\n",
       "      <td>Clean Alternative Fuel Vehicle Eligible</td>\n",
       "      <td>215</td>\n",
       "      <td>0</td>\n",
       "      <td>10.0</td>\n",
       "      <td>125048003</td>\n",
       "      <td>POINT (-122.6880708 48.2179983)</td>\n",
       "      <td>PUGET SOUND ENERGY INC</td>\n",
       "      <td>5.302997e+10</td>\n",
       "    </tr>\n",
       "  </tbody>\n",
       "</table>\n",
       "</div>"
      ],
      "text/plain": [
       "   VIN (1-10)     County         City State  Postal Code  Model Year  \\\n",
       "4  WBY7Z8C5XJ   Thurston      Olympia    WA      98501.0        2018   \n",
       "5  5YJ3E1EAXL  Snohomish   Marysville    WA      98271.0        2020   \n",
       "6  2C4RC1N77H       King         Kent    WA      98042.0        2017   \n",
       "7  5YJYGDEE3L       King  Woodinville    WA      98072.0        2020   \n",
       "8  5YJ3E1EA1J     Island   Coupeville    WA      98239.0        2018   \n",
       "\n",
       "       Make     Model                   Electric Vehicle Type  \\\n",
       "4       BMW        I3  Plug-in Hybrid Electric Vehicle (PHEV)   \n",
       "5     TESLA   MODEL 3          Battery Electric Vehicle (BEV)   \n",
       "6  CHRYSLER  PACIFICA  Plug-in Hybrid Electric Vehicle (PHEV)   \n",
       "7     TESLA   MODEL Y          Battery Electric Vehicle (BEV)   \n",
       "8     TESLA   MODEL 3          Battery Electric Vehicle (BEV)   \n",
       "\n",
       "  Clean Alternative Fuel Vehicle (CAFV) Eligibility  Electric Range  \\\n",
       "4           Clean Alternative Fuel Vehicle Eligible              97   \n",
       "5           Clean Alternative Fuel Vehicle Eligible             266   \n",
       "6           Clean Alternative Fuel Vehicle Eligible              33   \n",
       "7           Clean Alternative Fuel Vehicle Eligible             291   \n",
       "8           Clean Alternative Fuel Vehicle Eligible             215   \n",
       "\n",
       "   Base MSRP  Legislative District  DOL Vehicle ID  \\\n",
       "4          0                  22.0       185498386   \n",
       "5          0                  38.0       124595523   \n",
       "6          0                  47.0         1815593   \n",
       "7          0                  45.0       124760555   \n",
       "8          0                  10.0       125048003   \n",
       "\n",
       "                  Vehicle Location  \\\n",
       "4     POINT (-122.89692 47.043535)   \n",
       "5    POINT (-122.1713847 48.10433)   \n",
       "6     POINT (-122.111625 47.36078)   \n",
       "7     POINT (-122.151665 47.75855)   \n",
       "8  POINT (-122.6880708 48.2179983)   \n",
       "\n",
       "                                Electric Utility  2020 Census Tract  \n",
       "4                         PUGET SOUND ENERGY INC       5.306701e+10  \n",
       "5                         PUGET SOUND ENERGY INC       5.306194e+10  \n",
       "6  PUGET SOUND ENERGY INC||CITY OF TACOMA - (WA)       5.303303e+10  \n",
       "7  PUGET SOUND ENERGY INC||CITY OF TACOMA - (WA)       5.303302e+10  \n",
       "8                         PUGET SOUND ENERGY INC       5.302997e+10  "
      ]
     },
     "execution_count": 167,
     "metadata": {},
     "output_type": "execute_result"
    }
   ],
   "source": [
    "# Solve data inconsistencies problem (part 2)\n",
    "# Filter out data rows when Model Year less than or over 4 digits\n",
    "df = df[df['Model Year'].astype(str).str.len() == 4]\n",
    "\n",
    "df.head()\n"
   ]
  },
  {
   "cell_type": "markdown",
   "metadata": {
    "id": "yJKF3eHCqmpi"
   },
   "source": [
    "## 1.4 Data Quality Assurance"
   ]
  },
  {
   "cell_type": "code",
   "execution_count": 168,
   "metadata": {
    "colab": {
     "base_uri": "https://localhost:8080/"
    },
    "id": "FydT-731rAec",
    "outputId": "44baa2b1-8756-4779-efa6-d5befd5f4d80",
    "tags": []
   },
   "outputs": [
    {
     "name": "stdout",
     "output_type": "stream",
     "text": [
      "Data Quality Assurance\n",
      "                                                   No Error  Missing Values  Duplicates\n",
      "VIN (1-10)                                           150133               0           0\n",
      "County                                               150133               0           0\n",
      "City                                                 150133               0           0\n",
      "State                                                150133               0           0\n",
      "Postal Code                                          150133               0           0\n",
      "Model Year                                           150133               0           0\n",
      "Make                                                 150133               0           0\n",
      "Model                                                150133               0           0\n",
      "Electric Vehicle Type                                150133               0           0\n",
      "Clean Alternative Fuel Vehicle (CAFV) Eligibility    150133               0           0\n",
      "Electric Range                                       150133               0           0\n",
      "Base MSRP                                            150133               0           0\n",
      "Legislative District                                 150133               0           0\n",
      "DOL Vehicle ID                                       150133               0           0\n",
      "Vehicle Location                                     150133               0           0\n",
      "Electric Utility                                     150133               0           0\n",
      "2020 Census Tract                                    150133               0           0\n"
     ]
    }
   ],
   "source": [
    "# Show data summary to ensure no error\n",
    "print('Data Quality Assurance')\n",
    "summary = pd.DataFrame({\n",
    "    'No Error': df.count(),  # Non-null values counts per column\n",
    "    'Missing Values': df.isnull().sum(),  # Missing values per column\n",
    "    'Duplicates': df.duplicated().sum()  # Duplicate rows count\n",
    "})\n",
    "\n",
    "# Show the summary in table format (more neat)\n",
    "print(summary.to_string())"
   ]
  },
  {
   "cell_type": "markdown",
   "metadata": {
    "id": "kNEILfgoq8UK"
   },
   "source": [
    "## 1.5 Data Transformation"
   ]
  },
  {
   "cell_type": "code",
   "execution_count": 169,
   "metadata": {
    "colab": {
     "base_uri": "https://localhost:8080/"
    },
    "id": "PNLzHuigiBLa",
    "outputId": "6d9497a2-8b14-4f95-96ea-d26412ef87d4",
    "tags": []
   },
   "outputs": [
    {
     "name": "stdout",
     "output_type": "stream",
     "text": [
      "<class 'pandas.core.frame.DataFrame'>\n",
      "Index: 150133 entries, 4 to 150481\n",
      "Data columns (total 17 columns):\n",
      " #   Column                                             Non-Null Count   Dtype  \n",
      "---  ------                                             --------------   -----  \n",
      " 0   VIN (1-10)                                         150133 non-null  object \n",
      " 1   County                                             150133 non-null  object \n",
      " 2   City                                               150133 non-null  object \n",
      " 3   State                                              150133 non-null  object \n",
      " 4   Postal Code                                        150133 non-null  float64\n",
      " 5   Model Year                                         150133 non-null  int64  \n",
      " 6   Make                                               150133 non-null  object \n",
      " 7   Model                                              150133 non-null  object \n",
      " 8   Electric Vehicle Type                              150133 non-null  object \n",
      " 9   Clean Alternative Fuel Vehicle (CAFV) Eligibility  150133 non-null  object \n",
      " 10  Electric Range                                     150133 non-null  int64  \n",
      " 11  Base MSRP                                          150133 non-null  int64  \n",
      " 12  Legislative District                               150133 non-null  float64\n",
      " 13  DOL Vehicle ID                                     150133 non-null  int64  \n",
      " 14  Vehicle Location                                   150133 non-null  object \n",
      " 15  Electric Utility                                   150133 non-null  object \n",
      " 16  2020 Census Tract                                  150133 non-null  float64\n",
      "dtypes: float64(3), int64(4), object(10)\n",
      "memory usage: 20.6+ MB\n"
     ]
    }
   ],
   "source": [
    "# Check data types\n",
    "df.info()"
   ]
  },
  {
   "cell_type": "code",
   "execution_count": 170,
   "metadata": {
    "colab": {
     "base_uri": "https://localhost:8080/"
    },
    "id": "oSrxLFtBzXLh",
    "outputId": "3281e4a0-8902-4473-ec7b-637d3541df19",
    "tags": []
   },
   "outputs": [
    {
     "name": "stdout",
     "output_type": "stream",
     "text": [
      "        Postal Code  Legislative District  2020 Census Tract\n",
      "4           98501.0                  22.0       5.306701e+10\n",
      "5           98271.0                  38.0       5.306194e+10\n",
      "6           98042.0                  47.0       5.303303e+10\n",
      "7           98072.0                  45.0       5.303302e+10\n",
      "8           98239.0                  10.0       5.302997e+10\n",
      "...             ...                   ...                ...\n",
      "150477      98563.0                  19.0       5.302700e+10\n",
      "150478      98104.0                  43.0       5.303301e+10\n",
      "150479      98109.0                  43.0       5.303301e+10\n",
      "150480      98043.0                   1.0       5.306105e+10\n",
      "150481      98273.0                  40.0       5.305795e+10\n",
      "\n",
      "[150133 rows x 3 columns]\n"
     ]
    }
   ],
   "source": [
    "# Filter columns with data type as float\n",
    "float_columns = df.select_dtypes(include=['float'])\n",
    "\n",
    "print(float_columns)\n"
   ]
  },
  {
   "cell_type": "code",
   "execution_count": 171,
   "metadata": {
    "colab": {
     "base_uri": "https://localhost:8080/"
    },
    "id": "585Bq5I00MhR",
    "outputId": "7ab8e86b-e2b3-401c-f5c2-04d5b2cc996b",
    "tags": []
   },
   "outputs": [
    {
     "name": "stdout",
     "output_type": "stream",
     "text": [
      "<class 'pandas.core.frame.DataFrame'>\n",
      "Index: 150133 entries, 4 to 150481\n",
      "Data columns (total 17 columns):\n",
      " #   Column                                             Non-Null Count   Dtype  \n",
      "---  ------                                             --------------   -----  \n",
      " 0   VIN (1-10)                                         150133 non-null  object \n",
      " 1   County                                             150133 non-null  object \n",
      " 2   City                                               150133 non-null  object \n",
      " 3   State                                              150133 non-null  object \n",
      " 4   Postal Code                                        150133 non-null  int32  \n",
      " 5   Model Year                                         150133 non-null  int64  \n",
      " 6   Make                                               150133 non-null  object \n",
      " 7   Model                                              150133 non-null  object \n",
      " 8   Electric Vehicle Type                              150133 non-null  object \n",
      " 9   Clean Alternative Fuel Vehicle (CAFV) Eligibility  150133 non-null  object \n",
      " 10  Electric Range                                     150133 non-null  int64  \n",
      " 11  Base MSRP                                          150133 non-null  int64  \n",
      " 12  Legislative District                               150133 non-null  int32  \n",
      " 13  DOL Vehicle ID                                     150133 non-null  int64  \n",
      " 14  Vehicle Location                                   150133 non-null  object \n",
      " 15  Electric Utility                                   150133 non-null  object \n",
      " 16  2020 Census Tract                                  150133 non-null  float64\n",
      "dtypes: float64(1), int32(2), int64(4), object(10)\n",
      "memory usage: 19.5+ MB\n"
     ]
    }
   ],
   "source": [
    "# As seen from results, Postal Code and Legislative District are integers\n",
    "# Tranform data type from float to integer\n",
    "df['Postal Code'] = df['Postal Code'].astype('int')\n",
    "df['Legislative District'] = df['Legislative District'].astype('int')\n",
    "\n",
    "df.info()"
   ]
  },
  {
   "cell_type": "markdown",
   "metadata": {
    "id": "zGPyW0Cy6bNx"
   },
   "source": [
    "# Task 2"
   ]
  },
  {
   "cell_type": "markdown",
   "metadata": {
    "id": "3dJMt3Vr6nwu"
   },
   "source": [
    "## 2.1 Data Overview"
   ]
  },
  {
   "cell_type": "code",
   "execution_count": 172,
   "metadata": {
    "id": "vsdU1FJl64hL",
    "tags": []
   },
   "outputs": [
    {
     "name": "stdout",
     "output_type": "stream",
     "text": [
      "Number of rows(Observation):\n",
      "150133\n",
      "Number of columns(Variables):\n",
      "17\n"
     ]
    }
   ],
   "source": [
    "num_rows = len(df)\n",
    "print(\"Number of rows(Observation):\")\n",
    "print(num_rows)\n",
    "\n",
    "num_columns = len(df.columns)\n",
    "print(\"Number of columns(Variables):\")\n",
    "print(num_columns)"
   ]
  },
  {
   "cell_type": "markdown",
   "metadata": {
    "id": "Kgin2bRr6s6U"
   },
   "source": [
    "## 2.2 Data Structure"
   ]
  },
  {
   "cell_type": "code",
   "execution_count": 173,
   "metadata": {
    "id": "-4L1-R9O65Ka",
    "tags": []
   },
   "outputs": [
    {
     "name": "stdout",
     "output_type": "stream",
     "text": [
      "VIN (1-10)                                            object\n",
      "County                                                object\n",
      "City                                                  object\n",
      "State                                                 object\n",
      "Postal Code                                            int32\n",
      "Model Year                                             int64\n",
      "Make                                                  object\n",
      "Model                                                 object\n",
      "Electric Vehicle Type                                 object\n",
      "Clean Alternative Fuel Vehicle (CAFV) Eligibility     object\n",
      "Electric Range                                         int64\n",
      "Base MSRP                                              int64\n",
      "Legislative District                                   int32\n",
      "DOL Vehicle ID                                         int64\n",
      "Vehicle Location                                      object\n",
      "Electric Utility                                      object\n",
      "2020 Census Tract                                    float64\n",
      "dtype: object\n"
     ]
    }
   ],
   "source": [
    "data_types = df.dtypes\n",
    "print(data_types)"
   ]
  },
  {
   "cell_type": "markdown",
   "metadata": {
    "id": "q99fLGRx6xMW"
   },
   "source": [
    "## 2.3 Data Distribution"
   ]
  },
  {
   "cell_type": "code",
   "execution_count": 174,
   "metadata": {
    "id": "kV1IlSop6kS9",
    "tags": []
   },
   "outputs": [
    {
     "name": "stdout",
     "output_type": "stream",
     "text": [
      "         Postal Code    Model Year  Electric Range      Base MSRP  \\\n",
      "count  150133.000000  150133.00000   150133.000000  150133.000000   \n",
      "mean    98257.884243    2020.00702       67.862302    1311.135893   \n",
      "std       301.503690       3.01524       96.224037    9224.462708   \n",
      "min     98001.000000    1997.00000        0.000000       0.000000   \n",
      "25%     98052.000000    2018.00000        0.000000       0.000000   \n",
      "50%     98122.000000    2021.00000       18.000000       0.000000   \n",
      "75%     98370.000000    2023.00000       97.000000       0.000000   \n",
      "max     99403.000000    2024.00000      337.000000  845000.000000   \n",
      "\n",
      "       Legislative District  DOL Vehicle ID  2020 Census Tract  \n",
      "count         150133.000000    1.501330e+05       1.501330e+05  \n",
      "mean              29.344321    2.111400e+08       5.303968e+10  \n",
      "std               14.824798    8.196509e+07       1.615362e+07  \n",
      "min                1.000000    4.385000e+03       5.300195e+10  \n",
      "25%               18.000000    1.693919e+08       5.303301e+10  \n",
      "50%               33.000000    2.150582e+08       5.303303e+10  \n",
      "75%               43.000000    2.399286e+08       5.305307e+10  \n",
      "max               49.000000    4.792548e+08       5.307794e+10  \n"
     ]
    }
   ],
   "source": [
    "numeric_columns = ['Postal Code', 'Model Year', 'Electric Range', 'Base MSRP', 'Legislative District', 'DOL Vehicle ID', '2020 Census Tract']\n",
    "numeric_statistics = df[numeric_columns].describe()\n",
    "print(numeric_statistics)"
   ]
  },
  {
   "cell_type": "code",
   "execution_count": 175,
   "metadata": {
    "tags": []
   },
   "outputs": [
    {
     "name": "stdout",
     "output_type": "stream",
     "text": [
      "        VIN (1-10)  County   State    Make    Model  \\\n",
      "count       150133  150133  150133  150133   150133   \n",
      "unique        9522      39       1      37      127   \n",
      "top     7SAYGDEE7P    King      WA   TESLA  MODEL Y   \n",
      "freq           807   79072  150133   68820    28456   \n",
      "\n",
      "                 Electric Vehicle Type  \\\n",
      "count                           150133   \n",
      "unique                               2   \n",
      "top     Battery Electric Vehicle (BEV)   \n",
      "freq                            116581   \n",
      "\n",
      "        Clean Alternative Fuel Vehicle (CAFV) Eligibility  \\\n",
      "count                                              150133   \n",
      "unique                                                  3   \n",
      "top     Eligibility unknown as battery range has not b...   \n",
      "freq                                                69580   \n",
      "\n",
      "                   Vehicle Location  \\\n",
      "count                        150133   \n",
      "unique                          537   \n",
      "top     POINT (-122.12302 47.67668)   \n",
      "freq                           3869   \n",
      "\n",
      "                                     Electric Utility  \n",
      "count                                          150133  \n",
      "unique                                             75  \n",
      "top     PUGET SOUND ENERGY INC||CITY OF TACOMA - (WA)  \n",
      "freq                                            55632  \n"
     ]
    }
   ],
   "source": [
    "categorical_columns = ['VIN (1-10)', 'County', 'State','Make','Model','Electric Vehicle Type','Clean Alternative Fuel Vehicle (CAFV) Eligibility','Vehicle Location','Electric Utility']\n",
    "categorical_statistics = df[categorical_columns].describe()\n",
    "print(categorical_statistics)"
   ]
  },
  {
   "cell_type": "markdown",
   "metadata": {
    "id": "0pt9cUQB68xA"
   },
   "source": [
    "# Task 3"
   ]
  },
  {
   "cell_type": "markdown",
   "metadata": {
    "id": "PAo2matn6_j8"
   },
   "source": [
    "## 3.1 Data Analysis"
   ]
  },
  {
   "cell_type": "code",
   "execution_count": 176,
   "metadata": {
    "id": "YhYs0qmz7ERC",
    "tags": []
   },
   "outputs": [],
   "source": [
    "# import necessary libraries\n",
    "import matplotlib.pyplot as plt\n",
    "import seaborn as sns"
   ]
  },
  {
   "cell_type": "code",
   "execution_count": 177,
   "metadata": {
    "tags": []
   },
   "outputs": [
    {
     "name": "stdout",
     "output_type": "stream",
     "text": [
      "   VIN (1-10)     County         City State  Postal Code  Model Year  \\\n",
      "4  WBY7Z8C5XJ   Thurston      Olympia    WA        98501        2018   \n",
      "5  5YJ3E1EAXL  Snohomish   Marysville    WA        98271        2020   \n",
      "6  2C4RC1N77H       King         Kent    WA        98042        2017   \n",
      "7  5YJYGDEE3L       King  Woodinville    WA        98072        2020   \n",
      "8  5YJ3E1EA1J     Island   Coupeville    WA        98239        2018   \n",
      "\n",
      "       Make     Model                   Electric Vehicle Type  \\\n",
      "4       BMW        I3  Plug-in Hybrid Electric Vehicle (PHEV)   \n",
      "5     TESLA   MODEL 3          Battery Electric Vehicle (BEV)   \n",
      "6  CHRYSLER  PACIFICA  Plug-in Hybrid Electric Vehicle (PHEV)   \n",
      "7     TESLA   MODEL Y          Battery Electric Vehicle (BEV)   \n",
      "8     TESLA   MODEL 3          Battery Electric Vehicle (BEV)   \n",
      "\n",
      "  Clean Alternative Fuel Vehicle (CAFV) Eligibility  Electric Range  \\\n",
      "4           Clean Alternative Fuel Vehicle Eligible              97   \n",
      "5           Clean Alternative Fuel Vehicle Eligible             266   \n",
      "6           Clean Alternative Fuel Vehicle Eligible              33   \n",
      "7           Clean Alternative Fuel Vehicle Eligible             291   \n",
      "8           Clean Alternative Fuel Vehicle Eligible             215   \n",
      "\n",
      "   Base MSRP  Legislative District  DOL Vehicle ID  \\\n",
      "4          0                    22       185498386   \n",
      "5          0                    38       124595523   \n",
      "6          0                    47         1815593   \n",
      "7          0                    45       124760555   \n",
      "8          0                    10       125048003   \n",
      "\n",
      "                  Vehicle Location  \\\n",
      "4     POINT (-122.89692 47.043535)   \n",
      "5    POINT (-122.1713847 48.10433)   \n",
      "6     POINT (-122.111625 47.36078)   \n",
      "7     POINT (-122.151665 47.75855)   \n",
      "8  POINT (-122.6880708 48.2179983)   \n",
      "\n",
      "                                Electric Utility  2020 Census Tract  \n",
      "4                         PUGET SOUND ENERGY INC       5.306701e+10  \n",
      "5                         PUGET SOUND ENERGY INC       5.306194e+10  \n",
      "6  PUGET SOUND ENERGY INC||CITY OF TACOMA - (WA)       5.303303e+10  \n",
      "7  PUGET SOUND ENERGY INC||CITY OF TACOMA - (WA)       5.303302e+10  \n",
      "8                         PUGET SOUND ENERGY INC       5.302997e+10  \n",
      "         Postal Code    Model Year  Electric Range      Base MSRP  \\\n",
      "count  150133.000000  150133.00000   150133.000000  150133.000000   \n",
      "mean    98257.884243    2020.00702       67.862302    1311.135893   \n",
      "std       301.503690       3.01524       96.224037    9224.462708   \n",
      "min     98001.000000    1997.00000        0.000000       0.000000   \n",
      "25%     98052.000000    2018.00000        0.000000       0.000000   \n",
      "50%     98122.000000    2021.00000       18.000000       0.000000   \n",
      "75%     98370.000000    2023.00000       97.000000       0.000000   \n",
      "max     99403.000000    2024.00000      337.000000  845000.000000   \n",
      "\n",
      "       Legislative District  DOL Vehicle ID  2020 Census Tract  \n",
      "count         150133.000000    1.501330e+05       1.501330e+05  \n",
      "mean              29.344321    2.111400e+08       5.303968e+10  \n",
      "std               14.824798    8.196509e+07       1.615362e+07  \n",
      "min                1.000000    4.385000e+03       5.300195e+10  \n",
      "25%               18.000000    1.693919e+08       5.303301e+10  \n",
      "50%               33.000000    2.150582e+08       5.303303e+10  \n",
      "75%               43.000000    2.399286e+08       5.305307e+10  \n",
      "max               49.000000    4.792548e+08       5.307794e+10  \n",
      "<class 'pandas.core.frame.DataFrame'>\n",
      "Index: 150133 entries, 4 to 150481\n",
      "Data columns (total 17 columns):\n",
      " #   Column                                             Non-Null Count   Dtype  \n",
      "---  ------                                             --------------   -----  \n",
      " 0   VIN (1-10)                                         150133 non-null  object \n",
      " 1   County                                             150133 non-null  object \n",
      " 2   City                                               150133 non-null  object \n",
      " 3   State                                              150133 non-null  object \n",
      " 4   Postal Code                                        150133 non-null  int32  \n",
      " 5   Model Year                                         150133 non-null  int64  \n",
      " 6   Make                                               150133 non-null  object \n",
      " 7   Model                                              150133 non-null  object \n",
      " 8   Electric Vehicle Type                              150133 non-null  object \n",
      " 9   Clean Alternative Fuel Vehicle (CAFV) Eligibility  150133 non-null  object \n",
      " 10  Electric Range                                     150133 non-null  int64  \n",
      " 11  Base MSRP                                          150133 non-null  int64  \n",
      " 12  Legislative District                               150133 non-null  int32  \n",
      " 13  DOL Vehicle ID                                     150133 non-null  int64  \n",
      " 14  Vehicle Location                                   150133 non-null  object \n",
      " 15  Electric Utility                                   150133 non-null  object \n",
      " 16  2020 Census Tract                                  150133 non-null  float64\n",
      "dtypes: float64(1), int32(2), int64(4), object(10)\n",
      "memory usage: 19.5+ MB\n",
      "None\n"
     ]
    }
   ],
   "source": [
    "# Display the first few rows of the dataset\n",
    "print(df.head())\n",
    "\n",
    "# Get basic summary statistics\n",
    "print(df.describe())\n",
    "\n",
    "# Check data types and missing values\n",
    "print(df.info())"
   ]
  },
  {
   "cell_type": "code",
   "execution_count": 178,
   "metadata": {
    "tags": []
   },
   "outputs": [
    {
     "name": "stdout",
     "output_type": "stream",
     "text": [
      "Mean Values:\n",
      "Postal Code             9.825788e+04\n",
      "Model Year              2.020007e+03\n",
      "Electric Range          6.786230e+01\n",
      "Base MSRP               1.311136e+03\n",
      "Legislative District    2.934432e+01\n",
      "DOL Vehicle ID          2.111400e+08\n",
      "2020 Census Tract       5.303968e+10\n",
      "dtype: float64\n"
     ]
    }
   ],
   "source": [
    "# Calculate the mean\n",
    "mean_values = df[numeric_columns].mean()\n",
    "print(\"Mean Values:\")\n",
    "print(mean_values)"
   ]
  },
  {
   "cell_type": "code",
   "execution_count": 179,
   "metadata": {
    "tags": []
   },
   "outputs": [
    {
     "name": "stdout",
     "output_type": "stream",
     "text": [
      "\n",
      "Mode Values:\n",
      "   VIN (1-10) County State   Make    Model           Electric Vehicle Type  \\\n",
      "0  7SAYGDEE7P   King    WA  TESLA  MODEL Y  Battery Electric Vehicle (BEV)   \n",
      "\n",
      "   Clean Alternative Fuel Vehicle (CAFV) Eligibility  \\\n",
      "0  Eligibility unknown as battery range has not b...   \n",
      "\n",
      "              Vehicle Location                               Electric Utility  \n",
      "0  POINT (-122.12302 47.67668)  PUGET SOUND ENERGY INC||CITY OF TACOMA - (WA)  \n"
     ]
    }
   ],
   "source": [
    "# Calculate the mode\n",
    "mode_values = df[categorical_columns].mode()\n",
    "print(\"\\nMode Values:\")\n",
    "print(mode_values)"
   ]
  },
  {
   "cell_type": "code",
   "execution_count": 188,
   "metadata": {
    "tags": []
   },
   "outputs": [
    {
     "name": "stdout",
     "output_type": "stream",
     "text": [
      "\n",
      "Median Values:\n",
      "Postal Code             9.812200e+04\n",
      "Model Year              2.021000e+03\n",
      "Electric Range          1.800000e+01\n",
      "Base MSRP               0.000000e+00\n",
      "Legislative District    3.300000e+01\n",
      "DOL Vehicle ID          2.150582e+08\n",
      "2020 Census Tract       5.303303e+10\n",
      "dtype: float64\n"
     ]
    }
   ],
   "source": [
    "# Calculate the median\n",
    "median_values = df[numeric_columns].median()\n",
    "print(\"\\nMedian Values:\")\n",
    "print(median_values)"
   ]
  },
  {
   "cell_type": "code",
   "execution_count": 182,
   "metadata": {
    "tags": []
   },
   "outputs": [
    {
     "name": "stdout",
     "output_type": "stream",
     "text": [
      "\n",
      "Range:\n",
      "2020 Census Tract                                     75989907.0\n",
      "Base MSRP                                               845000.0\n",
      "City                                                         NaN\n",
      "Clean Alternative Fuel Vehicle (CAFV) Eligibility            NaN\n",
      "County                                                       NaN\n",
      "DOL Vehicle ID                                       479250387.0\n",
      "Electric Range                                             337.0\n",
      "Electric Utility                                             NaN\n",
      "Electric Vehicle Type                                        NaN\n",
      "Legislative District                                        48.0\n",
      "Make                                                         NaN\n",
      "Model                                                        NaN\n",
      "Model Year                                                  27.0\n",
      "Postal Code                                               1402.0\n",
      "State                                                        NaN\n",
      "VIN (1-10)                                                   NaN\n",
      "Vehicle Location                                             NaN\n",
      "dtype: object\n"
     ]
    }
   ],
   "source": [
    "range_values = df[numeric_columns].max() - df.min()\n",
    "print(\"\\nRange:\")\n",
    "print(range_values)"
   ]
  },
  {
   "cell_type": "code",
   "execution_count": 183,
   "metadata": {
    "tags": []
   },
   "outputs": [
    {
     "name": "stdout",
     "output_type": "stream",
     "text": [
      "\n",
      "Variance:\n",
      "Postal Code             9.090448e+04\n",
      "Model Year              9.091670e+00\n",
      "Electric Range          9.259065e+03\n",
      "Base MSRP               8.509071e+07\n",
      "Legislative District    2.197746e+02\n",
      "DOL Vehicle ID          6.718275e+15\n",
      "2020 Census Tract       2.609395e+14\n",
      "dtype: float64\n"
     ]
    }
   ],
   "source": [
    "variance_values = df[numeric_columns].var()\n",
    "print(\"\\nVariance:\")\n",
    "print(variance_values)"
   ]
  },
  {
   "cell_type": "code",
   "execution_count": 184,
   "metadata": {
    "tags": []
   },
   "outputs": [
    {
     "name": "stdout",
     "output_type": "stream",
     "text": [
      "\n",
      "Standard Deviation:\n",
      "Postal Code             3.015037e+02\n",
      "Model Year              3.015240e+00\n",
      "Electric Range          9.622404e+01\n",
      "Base MSRP               9.224463e+03\n",
      "Legislative District    1.482480e+01\n",
      "DOL Vehicle ID          8.196509e+07\n",
      "2020 Census Tract       1.615362e+07\n",
      "dtype: float64\n"
     ]
    }
   ],
   "source": [
    "std_dev_values = df[numeric_columns].std()\n",
    "print(\"\\nStandard Deviation:\")\n",
    "print(std_dev_values)"
   ]
  },
  {
   "cell_type": "markdown",
   "metadata": {
    "id": "hWXn-25A7Eu8"
   },
   "source": [
    "## 3.2 Data Visualization"
   ]
  },
  {
   "cell_type": "code",
   "execution_count": 185,
   "metadata": {
    "tags": []
   },
   "outputs": [
    {
     "data": {
      "image/png": "[encoded data removed]",
      "text/plain": [
       "<Figure size 640x480 with 1 Axes>"
      ]
     },
     "metadata": {},
     "output_type": "display_data"
    }
   ],
   "source": [
    "# Count the frequency of EV and hybrid cars in each county\n",
    "count_by_county = pd.crosstab(df['County'], df['Electric Vehicle Type'])\n",
    "\n",
    "# Calculate the total number of cars in each county\n",
    "count_by_county['Total'] = count_by_county.sum(axis=1)\n",
    "\n",
    "# Sort counties by total number of cars and select the top 10\n",
    "top_10_counties = count_by_county.sort_values(by='Total', ascending=False).head(10)\n",
    "\n",
    "# Plot a bar chart for the top 10 counties\n",
    "top_10_counties.drop(columns='Total').plot(kind='bar', stacked=True)\n",
    "plt.title('Top 10 Counties: EV and Hybrid Car Frequency')\n",
    "plt.xlabel('County')\n",
    "plt.ylabel('Number of Cars')\n",
    "plt.legend(title='Vehicle Type')\n",
    "plt.show()"
   ]
  },
  {
   "cell_type": "code",
   "execution_count": 186,
   "metadata": {
    "tags": []
   },
   "outputs": [
    {
     "data": {
      "image/png": "[encoded data removed]",
      "text/plain": [
       "<Figure size 640x480 with 1 Axes>"
      ]
     },
     "metadata": {},
     "output_type": "display_data"
    }
   ],
   "source": [
    "# Count the frequency of each brand\n",
    "brand_counts = df['Make'].value_counts()\n",
    "\n",
    "# Select the top 5 brands\n",
    "top_5_brands = brand_counts.nlargest(5)\n",
    "\n",
    "# Plot a bar chart\n",
    "top_5_brands.plot(kind='bar')\n",
    "plt.title('Top 5 EV Brands Market Share')\n",
    "plt.xlabel('Brand')\n",
    "plt.ylabel('Number of Cars')\n",
    "plt.show()"
   ]
  },
  {
   "cell_type": "code",
   "execution_count": 187,
   "metadata": {
    "tags": []
   },
   "outputs": [
    {
     "data": {
      "image/png": "[encoded data removed]",
      "text/plain": [
       "<Figure size 640x480 with 1 Axes>"
      ]
     },
     "metadata": {},
     "output_type": "display_data"
    }
   ],
   "source": [
    "# Count the frequency of each vehicle type\n",
    "vehicle_type_counts = df['Electric Vehicle Type'].value_counts()\n",
    "\n",
    "# Plot a pie chart\n",
    "vehicle_type_counts.plot(kind='pie', autopct='%1.1f%%')\n",
    "plt.title('Distribution of EVs and Hybrids')\n",
    "plt.ylabel('')\n",
    "plt.show()"
   ]
  }
 ],
 "metadata": {
  "colab": {
   "provenance": []
  },
  "kernelspec": {
   "display_name": "Python 3 (ipykernel)",
   "language": "python",
   "name": "python3"
  },
  "language_info": {
   "codemirror_mode": {
    "name": "ipython",
    "version": 3
   },
   "file_extension": ".py",
   "mimetype": "text/x-python",
   "name": "python",
   "nbconvert_exporter": "python",
   "pygments_lexer": "ipython3",
   "version": "3.11.5"
  }
 },
 "nbformat": 4,
 "nbformat_minor": 4
}
